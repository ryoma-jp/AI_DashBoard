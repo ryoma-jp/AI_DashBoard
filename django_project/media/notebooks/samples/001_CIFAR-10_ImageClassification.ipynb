{
 "cells": [
  {
   "cell_type": "markdown",
   "metadata": {},
   "source": [
    "# CIFAR-10 Image Classification"
   ]
  },
  {
   "cell_type": "code",
   "execution_count": 1,
   "metadata": {},
   "outputs": [
    {
     "name": "stdout",
     "output_type": "stream",
     "text": [
      "[{\"name\":\"Sample Project\",\"id\":1},{\"name\":\"Sample Project (2)\",\"id\":2}]"
     ]
    }
   ],
   "source": [
    "!curl http://$AI_DASHBORARD_IPADDR:1317/api/get_project_list"
   ]
  },
  {
   "cell_type": "code",
   "execution_count": 2,
   "metadata": {},
   "outputs": [
    {
     "name": "stdout",
     "output_type": "stream",
     "text": [
      "[{\"name\":\"CIFAR-10\",\"project\":1},{\"name\":\"MNIST\",\"project\":1},{\"name\":\"MNIST\",\"project\":2}]"
     ]
    }
   ],
   "source": [
    "!curl http://$AI_DASHBORARD_IPADDR:1317/api/get_dataset_list"
   ]
  }
 ],
 "metadata": {
  "kernelspec": {
   "display_name": "Python 3",
   "language": "python",
   "name": "python3"
  },
  "language_info": {
   "codemirror_mode": {
    "name": "ipython",
    "version": 3
   },
   "file_extension": ".py",
   "mimetype": "text/x-python",
   "name": "python",
   "nbconvert_exporter": "python",
   "pygments_lexer": "ipython3",
   "version": "3.8.10"
  }
 },
 "nbformat": 4,
 "nbformat_minor": 2
}
